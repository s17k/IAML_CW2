{
 "cells": [
  {
   "cell_type": "code",
   "execution_count": null,
   "metadata": {},
   "outputs": [],
   "source": [
    "##########################################################\n",
    "#  Python module template for helper functions of your own (IAML Level 10)\n",
    "#  Note that:\n",
    "#  - Those helper functions of your own for Questions 1, 2, and 3 should be defined in this file.\n",
    "#  - You can decide function names by yourself.\n",
    "#  - You do not need to include this header in your submission.\n",
    "##########################################################\n",
    "\n",
    "# load data\n",
    "Xtrn, Ytrn, Xtst, Ytst = load_FashionMNIST('./data')\n",
    "\n",
    "# 1. save originals\n",
    "Xtrn_orig = Xtrn\n",
    "Xtst_orig = Xtst\n",
    "\n",
    "# 2. divide by 255\n",
    "Xtrn = Xtrn/255.0\n",
    "Xtst = Xtst/255.0\n",
    "\n",
    "# 3. Calculate Xmean\n",
    "Xmean = Xtrn.mean(axis=0)\n",
    "assert Xmean.shape == (784, )\n",
    "\n",
    "# 4. Subtract the mean vector\n",
    "Xtrn_nm = Xtrn-Xmean\n",
    "Xtst_nm = Xtst-Xmean\n",
    "assert(abs(Xtrn_nm.mean(axis=0)).max() < 1e-10)"
   ]
  }
 ],
 "metadata": {
  "kernelspec": {
   "display_name": "Python 3",
   "language": "python",
   "name": "python3"
  },
  "language_info": {
   "codemirror_mode": {
    "name": "ipython",
    "version": 3
   },
   "file_extension": ".py",
   "mimetype": "text/x-python",
   "name": "python",
   "nbconvert_exporter": "python",
   "pygments_lexer": "ipython3",
   "version": "3.7.7"
  }
 },
 "nbformat": 4,
 "nbformat_minor": 4
}
