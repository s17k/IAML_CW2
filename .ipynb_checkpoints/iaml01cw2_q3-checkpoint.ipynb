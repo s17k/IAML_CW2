{
 "cells": [
  {
   "cell_type": "code",
   "execution_count": 21,
   "metadata": {},
   "outputs": [],
   "source": [
    "##########################################################\n",
    "#  Python script template for Question 3 (IAML Level 10)\n",
    "#  Note that:\n",
    "#  - You should not change the name of this file, 'iaml01cw2_q3.py', which is the file name you should use when you submit your code for this question.\n",
    "#  - You should write code for the functions defined below. Do not change their names.\n",
    "#  - You can define function arguments (parameters) and returns (attributes) if necessary.\n",
    "#  - In case you define additional functions, do not define them here, but put them in a separate Python module file, \"iaml01cw2_my_helpers.py\", and import it in this script.\n",
    "#  - For those questions requiring you to show results in tables, your code does not need to present them in tables - just showing them with print() is fine.\n",
    "#  - You do not need to include this header in your submission.\n",
    "##########################################################\n",
    "\n",
    "#--- Code for loading modules and the data set and pre-processing --->\n",
    "# NB: You can edit the following and add code (e.g. code for loading sklearn) if necessary.\n",
    "\n",
    "import numpy as np\n",
    "import scipy\n",
    "import matplotlib.pyplot as plt\n",
    "import seaborn as sns\n",
    "from iaml01cw2_helpers import *\n",
    "from itertools import accumulate\n",
    "from sklearn.cluster import KMeans\n",
    "from sklearn.decomposition import PCA\n",
    "\n",
    "from collections import Counter\n",
    "Xtrn,Ytrn,Xtst,Ytst = load_CoVoST2('./data')"
   ]
  },
  {
   "cell_type": "code",
   "execution_count": 12,
   "metadata": {},
   "outputs": [
    {
     "name": "stdout",
     "output_type": "stream",
     "text": [
      "intertia:  38185.82\n",
      "0 1018\n",
      "1 1125\n",
      "2 1191\n",
      "3 890\n",
      "4 1162\n",
      "5 1332\n",
      "6 839\n",
      "7 623\n",
      "8 1400\n",
      "9 838\n",
      "10 659\n",
      "11 1276\n",
      "12 121\n",
      "13 152\n",
      "14 950\n",
      "15 1971\n",
      "16 1251\n",
      "17 845\n",
      "18 896\n",
      "19 930\n",
      "20 1065\n",
      "21 1466\n"
     ]
    }
   ],
   "source": [
    "# Q3.1\n",
    "def iaml01cw2_q3_1():\n",
    "    kmeans = KMeans(n_clusters=22, random_state=1)\n",
    "    labels = kmeans.fit_predict(Xtrn)\n",
    "    inertia = kmeans.inertia_\n",
    "    print('intertia: ', format(inertia, '.2f'))\n",
    "    labels_ctr = Counter(labels)\n",
    "    for i in range(22):\n",
    "        print(i, labels_ctr[i])\n",
    "    return kmeans\n",
    "kmeans = iaml01cw2_q3_1()  "
   ]
  },
  {
   "cell_type": "code",
   "execution_count": 39,
   "metadata": {},
   "outputs": [
    {
     "name": "stdout",
     "output_type": "stream",
     "text": [
      "(22, 26)\n"
     ]
    },
    {
     "data": {
      "image/png": "[encoded data removed]",
      "text/plain": [
       "<Figure size 432x288 with 1 Axes>"
      ]
     },
     "metadata": {
      "needs_background": "light"
     },
     "output_type": "display_data"
    }
   ],
   "source": [
    "# Q3.2\n",
    "def iaml01cw2_q3_2():\n",
    "    mean_vs = np.concatenate([(Xtrn[Ytrn==i].mean(axis=0)).reshape(1,Xtrn.shape[1]) \n",
    "                for i in range(22)], axis=0)\n",
    "    print(mean_vs.shape)\n",
    "    pca = PCA(n_components=2)\n",
    "    means_pca = pca.fit_transform(mean_vs)\n",
    "    \n",
    "    plt.scatter(means_pca[:,0], means_pca[:,1])\n",
    "    centers_pca = pca.transform(kmeans.cluster_centers_)\n",
    "    plt.scatter(centers_pca[:,0], centers_pca[:,1], c='g')\n",
    "iaml01cw2_q3_2()   # comment this out when you run the function"
   ]
  },
  {
   "cell_type": "code",
   "execution_count": 15,
   "metadata": {},
   "outputs": [
    {
     "data": {
      "text/plain": [
       "array([11, 20, 14, ..., 21, 14, 15])"
      ]
     },
     "execution_count": 15,
     "metadata": {},
     "output_type": "execute_result"
    }
   ],
   "source": []
  },
  {
   "cell_type": "code",
   "execution_count": null,
   "metadata": {},
   "outputs": [],
   "source": [
    "# Q3.3\n",
    "def iaml01cw2_q3_3():\n",
    "    pass\n",
    "# iaml01cw2_q3_3()   # comment this out when you run the function"
   ]
  },
  {
   "cell_type": "code",
   "execution_count": null,
   "metadata": {},
   "outputs": [],
   "source": [
    "# Q3.4\n",
    "def iaml01cw2_q3_4():\n",
    "    pass\n",
    "# iaml01cw2_q3_4()   # comment this out when you run the function"
   ]
  },
  {
   "cell_type": "code",
   "execution_count": 3,
   "metadata": {},
   "outputs": [
    {
     "ename": "IndentationError",
     "evalue": "expected an indented block (<ipython-input-3-6f2742f0262f>, line 32)",
     "output_type": "error",
     "traceback": [
      "\u001b[0;36m  File \u001b[0;32m\"<ipython-input-3-6f2742f0262f>\"\u001b[0;36m, line \u001b[0;32m32\u001b[0m\n\u001b[0;31m    def iaml01cw2_q3_2():\u001b[0m\n\u001b[0m      ^\u001b[0m\n\u001b[0;31mIndentationError\u001b[0m\u001b[0;31m:\u001b[0m expected an indented block\n"
     ]
    }
   ],
   "source": [
    "# Q3.5\n",
    "def iaml01cw2_q3_5():\n",
    "    pass\n",
    "# iaml01cw2_q3_5()   # comment this out when you run the function"
   ]
  }
 ],
 "metadata": {
  "kernelspec": {
   "display_name": "Python 3",
   "language": "python",
   "name": "python3"
  },
  "language_info": {
   "codemirror_mode": {
    "name": "ipython",
    "version": 3
   },
   "file_extension": ".py",
   "mimetype": "text/x-python",
   "name": "python",
   "nbconvert_exporter": "python",
   "pygments_lexer": "ipython3",
   "version": "3.7.7"
  }
 },
 "nbformat": 4,
 "nbformat_minor": 4
}
