{
 "cells": [
  {
   "cell_type": "code",
   "execution_count": 28,
   "metadata": {},
   "outputs": [],
   "source": [
    "##########################################################\n",
    "#  Python script template for Question 2 (IAML Level 10)\n",
    "#  Note that\n",
    "#  - You should not change the name of this file, 'iaml01cw2_q2.py', which is the file name you should use when you submit your code for this question.\n",
    "#  - You should write code for the functions defined below. Do not change their names.\n",
    "#  - You can define function arguments (parameters) and returns (attributes) if necessary.\n",
    "#  - In case you define additional functions, do not define them here, but put them in a separate Python module file, \"iaml01cw2_my_helpers.py\", and import it in this script.\n",
    "#  - For those questions requiring you to show results in tables, your code does not need to present them in tables - just showing them with print() is fine.\n",
    "#  - You do not need to include this header in your submission.\n",
    "##########################################################\n",
    "\n",
    "#--- Code for loading modules and the data set and pre-processing --->\n",
    "# NB: You can edit the following and add code (e.g. code for loading sklearn) if necessary.\n",
    "\n",
    "import numpy as np\n",
    "import scipy\n",
    "import matplotlib.pyplot as plt\n",
    "import seaborn as sns\n",
    "from sklearn.linear_model import LogisticRegression\n",
    "from sklearn.metrics import confusion_matrix, accuracy_score\n",
    "from sklearn.decomposition import PCA\n",
    "from sklearn.svm import SVC\n",
    "from sklearn.model_selection import cross_val_score\n",
    "from itertools import accumulate\n",
    "from iaml01cw2_helpers import *\n",
    "\n",
    "plt.rcParams['figure.figsize'] = [14, 8]\n",
    "\n",
    "%run iaml01cw2_my_helpers.ipynb"
   ]
  },
  {
   "cell_type": "code",
   "execution_count": 3,
   "metadata": {},
   "outputs": [],
   "source": [
    "# Q2.1\n",
    "def print_sc_and_confmat(score, conf_mat):\n",
    "    print(format(score, '.2f'))\n",
    "    print(\"& \" + \" & \".join([str(i) for i in range(1,11)]) + \"\\\\\\\\ \\\\hline\")\n",
    "    print(\" \\\\\\\\ \\\\hline \\n\".join([str(i+1) + \" & \" + \" & \".join([str(conf_mat[i,j]) for j in range(10)]) for i in range(10)]))"
   ]
  },
  {
   "cell_type": "code",
   "execution_count": 4,
   "metadata": {},
   "outputs": [
    {
     "name": "stdout",
     "output_type": "stream",
     "text": [
      "0.84\n",
      "& 1 & 2 & 3 & 4 & 5 & 6 & 7 & 8 & 9 & 10\\\\ \\hline\n",
      "1 & 819 & 3 & 15 & 50 & 7 & 4 & 89 & 1 & 12 & 0 \\\\ \\hline \n",
      "2 & 5 & 953 & 4 & 27 & 5 & 0 & 3 & 1 & 2 & 0 \\\\ \\hline \n",
      "3 & 27 & 4 & 731 & 11 & 133 & 0 & 82 & 2 & 9 & 1 \\\\ \\hline \n",
      "4 & 31 & 15 & 14 & 866 & 33 & 0 & 37 & 0 & 4 & 0 \\\\ \\hline \n",
      "5 & 0 & 3 & 115 & 38 & 760 & 2 & 72 & 0 & 10 & 0 \\\\ \\hline \n",
      "6 & 2 & 0 & 0 & 1 & 0 & 911 & 0 & 56 & 10 & 20 \\\\ \\hline \n",
      "7 & 147 & 3 & 128 & 46 & 108 & 0 & 539 & 0 & 28 & 1 \\\\ \\hline \n",
      "8 & 0 & 0 & 0 & 0 & 0 & 32 & 0 & 936 & 1 & 31 \\\\ \\hline \n",
      "9 & 7 & 1 & 6 & 11 & 3 & 7 & 15 & 5 & 945 & 0 \\\\ \\hline \n",
      "10 & 0 & 0 & 0 & 1 & 0 & 15 & 1 & 42 & 0 & 941\n"
     ]
    }
   ],
   "source": [
    "def iaml01cw2_q2_1():\n",
    "    regr = LogisticRegression()\n",
    "    regr.fit(Xtrn_nm, Ytrn)\n",
    "    Ytst_pred = regr.predict(Xtst_nm)\n",
    "    conf_mat = confusion_matrix(Ytst, Ytst_pred)\n",
    "    score = accuracy_score(Ytst, Ytst_pred)\n",
    "    print_sc_and_confmat(score, conf_mat)\n",
    "    return regr\n",
    "regr = iaml01cw2_q2_1()"
   ]
  },
  {
   "cell_type": "code",
   "execution_count": 5,
   "metadata": {},
   "outputs": [
    {
     "name": "stdout",
     "output_type": "stream",
     "text": [
      "0.85\n",
      "& 1 & 2 & 3 & 4 & 5 & 6 & 7 & 8 & 9 & 10\\\\ \\hline\n",
      "1 & 845 & 2 & 8 & 51 & 4 & 4 & 72 & 0 & 14 & 0 \\\\ \\hline \n",
      "2 & 4 & 951 & 7 & 31 & 5 & 0 & 1 & 0 & 1 & 0 \\\\ \\hline \n",
      "3 & 15 & 2 & 748 & 11 & 137 & 0 & 79 & 0 & 8 & 0 \\\\ \\hline \n",
      "4 & 32 & 6 & 12 & 881 & 26 & 0 & 40 & 0 & 3 & 0 \\\\ \\hline \n",
      "5 & 1 & 0 & 98 & 36 & 775 & 0 & 86 & 0 & 4 & 0 \\\\ \\hline \n",
      "6 & 0 & 0 & 0 & 1 & 0 & 914 & 0 & 57 & 2 & 26 \\\\ \\hline \n",
      "7 & 185 & 1 & 122 & 39 & 95 & 0 & 533 & 0 & 25 & 0 \\\\ \\hline \n",
      "8 & 0 & 0 & 0 & 0 & 0 & 34 & 0 & 925 & 0 & 41 \\\\ \\hline \n",
      "9 & 3 & 1 & 8 & 5 & 2 & 4 & 13 & 4 & 959 & 1 \\\\ \\hline \n",
      "10 & 0 & 0 & 0 & 0 & 0 & 22 & 0 & 47 & 1 & 930\n"
     ]
    }
   ],
   "source": [
    "# Q2.2\n",
    "def iaml01cw2_q2_2():\n",
    "    svc = SVC()\n",
    "    svc.fit(Xtrn_nm, Ytrn)\n",
    "    Ytst_pred = svc.predict(Xtst_nm)\n",
    "    conf_mat = confusion_matrix(Ytst, Ytst_pred)\n",
    "    score = accuracy_score(Ytst, Ytst_pred)\n",
    "    print_sc_and_confmat(score, conf_mat)\n",
    "    return svc\n",
    "svc = iaml01cw2_q2_2()"
   ]
  },
  {
   "cell_type": "code",
   "execution_count": 23,
   "metadata": {},
   "outputs": [
    {
     "data": {
      "image/png": "[encoded data removed]",
      "text/plain": [
       "<Figure size 720x720 with 1 Axes>"
      ]
     },
     "metadata": {
      "needs_background": "light"
     },
     "output_type": "display_data"
    }
   ],
   "source": [
    "# Q2.3\n",
    "\n",
    "def genContours(predictor):\n",
    "    pca = PCA(n_components=2)\n",
    "    Xtrn_proj = pca.fit_transform(Xtrn_nm, Ytrn)\n",
    "    variances = pca.explained_variance_\n",
    "    stddevs = np.sqrt(variances)\n",
    "    xsp = np.linspace(-5*stddevs[0], 5*stddevs[1], 100)\n",
    "    ysp = np.linspace(-5*stddevs[1], 5*stddevs[1], 100)\n",
    "    X,Y = np.meshgrid(xsp, ysp)\n",
    "    XY = np.column_stack((X.reshape((10000,1)),Y.reshape((10000,1))))\n",
    "    PT = pca.inverse_transform(XY)\n",
    "    Z = predictor(PT)\n",
    "    Z = Z.reshape(100,100)\n",
    "    \n",
    "    plt.figure(figsize=(10, 10))\n",
    "    plt.contourf(X, Y, Z, cmap=\"coolwarm\")\n",
    "\n",
    "def iaml01cw2_q2_3():\n",
    "    genContours(lambda pt: regr.predict(pt))\n",
    "    plt.savefig('imgs/2_3.png', bbox_inches = 'tight', pad_inches = 0)\n",
    "    \n",
    "iaml01cw2_q2_3()"
   ]
  },
  {
   "cell_type": "code",
   "execution_count": 24,
   "metadata": {},
   "outputs": [
    {
     "data": {
      "image/png": "[encoded data removed]",
      "text/plain": [
       "<Figure size 720x720 with 1 Axes>"
      ]
     },
     "metadata": {
      "needs_background": "light"
     },
     "output_type": "display_data"
    }
   ],
   "source": [
    "# Q2.4\n",
    "def iaml01cw2_q2_4():\n",
    "    genContours(lambda pt: svc.predict(pt))\n",
    "    plt.savefig('imgs/2_4.png', bbox_inches = 'tight', pad_inches = 0)\n",
    "iaml01cw2_q2_4()"
   ]
  },
  {
   "cell_type": "code",
   "execution_count": null,
   "metadata": {},
   "outputs": [],
   "source": [
    "# Q2.5\n",
    "def iaml01cw2_q2_5():\n",
    "    small_size = 100 # testing\n",
    "    Xsmall = np.concatenate([Xtrn_nm[Ytrn==i][:small_size] for i in range(10)], axis=0)\n",
    "    Ysmall = np.concatenate([Ytrn[Ytrn==i][:small_size] for i in range(10)], axis=0)\n",
    "    Cs = 10**np.linspace(-2,3,10)\n",
    "    ScoreByC = []\n",
    "    for C in Cs:\n",
    "        svm_mdl = SVC(kernel='rbf', C=C)\n",
    "        scores = cross_val_score(svm_mdl, Xsmall, Ysmall, cv=3)\n",
    "        score = scores.mean()\n",
    "        ScoreByC.append(score)\n",
    "        \n",
    "    plt.plot(Cs, ScoreByC)\n",
    "    plt.xscale('log')\n",
    "    plt.title('3-fold cross-validated accuracy scores for various values of C')\n",
    "    bestScore, bestC = max(zip(ScoreByC, Cs))\n",
    "    print(bestScore, bestC)\n",
    "    return bestC\n",
    "bestC = iaml01cw2_q2_5()  "
   ]
  },
  {
   "cell_type": "code",
   "execution_count": 40,
   "metadata": {},
   "outputs": [
    {
     "name": "stdout",
     "output_type": "stream",
     "text": [
      "train accu:  0.9084166666666667  tst_accu 0.8765\n"
     ]
    }
   ],
   "source": [
    "# Q2.6 \n",
    "def iaml01cw2_q2_6():\n",
    "    svm_mdl = SVC(kernel='rbf', C=bestC)\n",
    "    svm_mdl.fit(Xtrn_nm, Ytrn)\n",
    "    Ytrn_pred = svm_mdl.predict(Xtrn_nm)\n",
    "    trn_accu = (Ytrn == Ytrn_pred).mean()\n",
    "    \n",
    "    Ytst_pred = svm_mdl.predict(Xtst_nm)\n",
    "    tst_accu = (Ytst == Ytst_pred).mean()\n",
    "    \n",
    "    print(\"train accu: \", trn_accu, \" tst_accu\", tst_accu)\n",
    "    \n",
    "iaml01cw2_q2_6()"
   ]
  }
 ],
 "metadata": {
  "kernelspec": {
   "display_name": "Python 3",
   "language": "python",
   "name": "python3"
  },
  "language_info": {
   "codemirror_mode": {
    "name": "ipython",
    "version": 3
   },
   "file_extension": ".py",
   "mimetype": "text/x-python",
   "name": "python",
   "nbconvert_exporter": "python",
   "pygments_lexer": "ipython3",
   "version": "3.7.7"
  }
 },
 "nbformat": 4,
 "nbformat_minor": 4
}
